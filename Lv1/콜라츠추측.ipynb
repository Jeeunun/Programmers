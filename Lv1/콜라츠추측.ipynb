{
 "cells": [
  {
   "cell_type": "markdown",
   "metadata": {},
   "source": [
    "1937년 Collatz란 사람에 의해 제기된 이 추측은, 주어진 수가 1이 될 때까지 다음 작업을 반복하면, 모든 수를 1로 만들 수 있다는 추측입니다. 작업은 다음과 같습니다.\n",
    "\n",
    "1-1. 입력된 수가 짝수라면 2로 나눕니다. \n",
    "\n",
    "\n",
    "1-2. 입력된 수가 홀수라면 3을 곱하고 1을 더합니다. \n",
    "\n",
    "\n",
    "2. 결과로 나온 수에 같은 작업을 1이 될 때까지 반복합니다.\n",
    "\n",
    "\n",
    "예를 들어, 주어진 수가 6이라면 6 → 3 → 10 → 5 → 16 → 8 → 4 → 2 → 1 이 되어 총 8번 만에 1이 됩니다. 위 작업을 몇 번이나 반복해야 하는지 반환하는 함수, solution을 완성해 주세요. 단, 주어진 수가 1인 경우에는 0을, 작업을 500번 반복할 때까지 1이 되지 않는다면 –1을 반환해 주세요."
   ]
  },
  {
   "cell_type": "code",
   "execution_count": 6,
   "metadata": {},
   "outputs": [
    {
     "name": "stdout",
     "output_type": "stream",
     "text": [
      "-1\n"
     ]
    }
   ],
   "source": [
    "# 확인\n",
    "x = 626331\n",
    "result = 0\n",
    "if x == 1:\n",
    "    print (0)\n",
    "\n",
    "while x!=1:\n",
    "    if x%2==0:\n",
    "        x=x/2\n",
    "        result+=1\n",
    "    elif x%2!=0:\n",
    "        x = 3*x + 1\n",
    "        result+=1\n",
    "\n",
    "print (result if result<500 else -1)"
   ]
  },
  {
   "cell_type": "code",
   "execution_count": 20,
   "metadata": {},
   "outputs": [
    {
     "data": {
      "text/plain": [
       "-1"
      ]
     },
     "execution_count": 20,
     "metadata": {},
     "output_type": "execute_result"
    }
   ],
   "source": [
    "result"
   ]
  },
  {
   "cell_type": "code",
   "execution_count": 7,
   "metadata": {},
   "outputs": [],
   "source": [
    "# 정답\n",
    "def solution(x):\n",
    "    result = 0\n",
    "    if x == 1:\n",
    "        return 0\n",
    "    \n",
    "    while x!=1:\n",
    "        if x%2==0:\n",
    "            x = x/2 \n",
    "            result+=1\n",
    "     \n",
    "        elif x%2!=0:\n",
    "            x = 3*x + 1\n",
    "            result+=1\n",
    "\n",
    "    return result if result < 500 else -1\n"
   ]
  },
  {
   "cell_type": "code",
   "execution_count": 9,
   "metadata": {},
   "outputs": [
    {
     "data": {
      "text/plain": [
       "8"
      ]
     },
     "execution_count": 9,
     "metadata": {},
     "output_type": "execute_result"
    }
   ],
   "source": [
    "solution(6)"
   ]
  },
  {
   "cell_type": "code",
   "execution_count": null,
   "metadata": {},
   "outputs": [],
   "source": [
    "# 다른 사람 풀이\n",
    "def collatz(num):\n",
    "    for i in range(500):\n",
    "        num=num/2 if num%2==0 else num*3+1\n",
    "        if num==1:\n",
    "            return i+1\n",
    "    return -1"
   ]
  }
 ],
 "metadata": {
  "kernelspec": {
   "display_name": "Python 3",
   "language": "python",
   "name": "python3"
  },
  "language_info": {
   "codemirror_mode": {
    "name": "ipython",
    "version": 3
   },
   "file_extension": ".py",
   "mimetype": "text/x-python",
   "name": "python",
   "nbconvert_exporter": "python",
   "pygments_lexer": "ipython3",
   "version": "3.9.13"
  }
 },
 "nbformat": 4,
 "nbformat_minor": 2
}
