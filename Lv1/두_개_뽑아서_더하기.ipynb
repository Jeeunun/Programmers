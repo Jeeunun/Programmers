{
 "cells": [
  {
   "cell_type": "markdown",
   "metadata": {},
   "source": [
    "정수 배열 numbers가 주어집니다. numbers에서 서로 다른 인덱스에 있는 두 개의 수를 뽑아 더해서 만들 수 있는 모든 수를 배열에 오름차순으로 담아 return 하도록 solution 함수를 완성해주세요.\n",
    "\n",
    "|numbers|result|\n",
    "|---|---|\n",
    "|[2,1,3,4,1]|[2,3,4,5,6,7]|\n",
    "|[5,0,2,7]|\t[2,5,7,9,12]|"
   ]
  },
  {
   "cell_type": "code",
   "execution_count": 8,
   "metadata": {},
   "outputs": [
    {
     "name": "stdout",
     "output_type": "stream",
     "text": [
      "[2, 3, 3, 4, 4, 5, 5, 5, 6, 7]\n"
     ]
    }
   ],
   "source": [
    "# 확인해보기\n",
    "numbers =[2,1,3,4,1]\n",
    "\n",
    "result = []\n",
    "numbers.sort() # 1(0),1(1),2(2),3(3),4(4)\n",
    "\n",
    "for i in range(len(numbers)-1):         #i=0,1,2,3\n",
    "    for j in range(i+1,len(numbers)):   #i=0일때, j=1,2,3,4 / i=1일때, j=2,3,4 / ...\n",
    "        result.append(numbers[i]+numbers[j])\n",
    "\n",
    "result.sort()\n",
    "print(result)"
   ]
  },
  {
   "cell_type": "code",
   "execution_count": 10,
   "metadata": {},
   "outputs": [],
   "source": [
    "# 첫번째 시도\n",
    "def solution(numbers):\n",
    "    result = []\n",
    "    numbers.sort() \n",
    "\n",
    "    for i in range(len(numbers)-1):         \n",
    "        for j in range(i+1,len(numbers)):  \n",
    "            result.append(numbers[i]+numbers[j])\n",
    "\n",
    "    result.sort()\n",
    "    return (set(result))"
   ]
  },
  {
   "cell_type": "markdown",
   "metadata": {},
   "source": [
    "> TypeError: Object of type set is not JSON serializable 오류발생"
   ]
  },
  {
   "cell_type": "code",
   "execution_count": 15,
   "metadata": {},
   "outputs": [],
   "source": [
    "# 두번째 시도\n",
    "def solution(numbers):\n",
    "    result = []\n",
    "    numbers.sort() \n",
    "\n",
    "    for i in range(len(numbers)-1):         \n",
    "        for j in range(i+1,len(numbers)):  \n",
    "            result.append(numbers[i]+numbers[j])\n",
    "\n",
    "    result.sort()\n",
    "    return (list(set(result)))"
   ]
  },
  {
   "cell_type": "markdown",
   "metadata": {},
   "source": [
    "> 정확도 77.8 <br>\n",
    "> 질문하기 참고하니 4,5번 오류나는 이유가 정렬의 문제 임을 알게되었다."
   ]
  },
  {
   "cell_type": "code",
   "execution_count": 17,
   "metadata": {},
   "outputs": [],
   "source": [
    "# 정답\n",
    "def solution(numbers):\n",
    "    result = []\n",
    "    numbers.sort() \n",
    "\n",
    "    for i in range(len(numbers)-1):         \n",
    "        for j in range(i+1,len(numbers)):  \n",
    "            result.append(numbers[i]+numbers[j])\n",
    "\n",
    "    return sorted(list(set(result)))"
   ]
  },
  {
   "cell_type": "code",
   "execution_count": null,
   "metadata": {},
   "outputs": [],
   "source": []
  }
 ],
 "metadata": {
  "kernelspec": {
   "display_name": "Python 3",
   "language": "python",
   "name": "python3"
  },
  "language_info": {
   "codemirror_mode": {
    "name": "ipython",
    "version": 3
   },
   "file_extension": ".py",
   "mimetype": "text/x-python",
   "name": "python",
   "nbconvert_exporter": "python",
   "pygments_lexer": "ipython3",
   "version": "3.9.13"
  }
 },
 "nbformat": 4,
 "nbformat_minor": 2
}
