{
 "cells": [
  {
   "cell_type": "markdown",
   "metadata": {},
   "source": [
    "두 수를 입력받아 두 수의 최대공약수와 최소공배수를 반환하는 함수, solution을 완성해 보세요. 배열의 맨 앞에 최대공약수, 그다음 최소공배수를 넣어 반환하면 됩니다. 예를 들어 두 수 3, 12의 최대공약수는 3, 최소공배수는 12이므로 solution(3, 12)는 [3, 12]를 반환해야 합니다."
   ]
  },
  {
   "cell_type": "code",
   "execution_count": 16,
   "metadata": {},
   "outputs": [
    {
     "data": {
      "text/plain": [
       "[3, 12]"
      ]
     },
     "execution_count": 16,
     "metadata": {},
     "output_type": "execute_result"
    }
   ],
   "source": [
    "# 확인\n",
    "n = 3\n",
    "m = 12\n",
    "\n",
    "answer = []\n",
    "x = [a for a in range(1, n+1) if n%a==0 and m%a==0][-1] #최대공약수\n",
    "y = x * (n//x * m//x) # 최소공배수 = 최대공약수 * (최대공약수로 각자 나눈 몫의 곱)\n",
    "answer.append(x)\n",
    "answer.append(y)\n",
    "answer       "
   ]
  },
  {
   "cell_type": "code",
   "execution_count": 17,
   "metadata": {},
   "outputs": [],
   "source": [
    "# 정답\n",
    "def solution(n,m):\n",
    "    x = [a for a in range(1, n+1) if n%a==0 and m%a==0][-1] #최대공약수\n",
    "    y = x * (n//x * m//x) # 최소공배수 = 최대공약수 * (최대공약수로 각자 나눈 몫의 곱)\n",
    "    return [x, y]"
   ]
  },
  {
   "cell_type": "code",
   "execution_count": 18,
   "metadata": {},
   "outputs": [
    {
     "data": {
      "text/plain": [
       "[3, 12]"
      ]
     },
     "execution_count": 18,
     "metadata": {},
     "output_type": "execute_result"
    }
   ],
   "source": [
    "solution(3,12)"
   ]
  },
  {
   "cell_type": "code",
   "execution_count": null,
   "metadata": {},
   "outputs": [],
   "source": [
    "# 다른 사람 풀이\n",
    "def gcdlcm(a, b):\n",
    "    c,d = max(a, b), min(a, b)\n",
    "    t = 1\n",
    "    while t>0:\n",
    "        t = c%d\n",
    "        c, d = d, t\n",
    "    answer = [ c, int (a*b/c)]\n",
    "    return answer"
   ]
  }
 ],
 "metadata": {
  "kernelspec": {
   "display_name": "Python 3",
   "language": "python",
   "name": "python3"
  },
  "language_info": {
   "codemirror_mode": {
    "name": "ipython",
    "version": 3
   },
   "file_extension": ".py",
   "mimetype": "text/x-python",
   "name": "python",
   "nbconvert_exporter": "python",
   "pygments_lexer": "ipython3",
   "version": "3.9.13"
  }
 },
 "nbformat": 4,
 "nbformat_minor": 2
}
