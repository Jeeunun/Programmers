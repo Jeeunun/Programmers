{
 "cells": [
  {
   "cell_type": "markdown",
   "metadata": {},
   "source": [
    "길이가 n이고, \"수박수박수박수....\"와 같은 패턴을 유지하는 문자열을 리턴하는 함수, solution을 완성하세요. 예를들어 n이 4이면 \"수박수박\"을 리턴하고 3이라면 \"수박수\"를 리턴하면 됩니다."
   ]
  },
  {
   "cell_type": "code",
   "execution_count": 10,
   "metadata": {},
   "outputs": [],
   "source": [
    "# 정답\n",
    "def solution(n):\n",
    "    if n%2 == 0:\n",
    "        return '수박'* int(n//2)\n",
    "    return '수박'* int(n//2) + '수박'[0]"
   ]
  },
  {
   "cell_type": "code",
   "execution_count": 11,
   "metadata": {},
   "outputs": [
    {
     "data": {
      "text/plain": [
       "'수박수박수박수박수박'"
      ]
     },
     "execution_count": 11,
     "metadata": {},
     "output_type": "execute_result"
    }
   ],
   "source": [
    "solution(10)"
   ]
  },
  {
   "cell_type": "code",
   "execution_count": null,
   "metadata": {},
   "outputs": [],
   "source": [
    "# 다른 사람 풀이\n",
    "def water_melon(n):\n",
    "    str = '수박'*n\n",
    "    return str[:n]"
   ]
  }
 ],
 "metadata": {
  "kernelspec": {
   "display_name": "Python 3",
   "language": "python",
   "name": "python3"
  },
  "language_info": {
   "codemirror_mode": {
    "name": "ipython",
    "version": 3
   },
   "file_extension": ".py",
   "mimetype": "text/x-python",
   "name": "python",
   "nbconvert_exporter": "python",
   "pygments_lexer": "ipython3",
   "version": "3.9.13"
  }
 },
 "nbformat": 4,
 "nbformat_minor": 2
}
