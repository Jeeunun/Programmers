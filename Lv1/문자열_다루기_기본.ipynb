{
 "cells": [
  {
   "cell_type": "markdown",
   "metadata": {},
   "source": [
    "문자열 s의 길이가 4 혹은 6이고, 숫자로만 구성돼있는지 확인해주는 함수, solution을 완성하세요. 예를 들어 s가 \"a234\"이면 False를 리턴하고 \"1234\"라면 True를 리턴하면 됩니다."
   ]
  },
  {
   "cell_type": "code",
   "execution_count": 6,
   "metadata": {},
   "outputs": [
    {
     "name": "stdout",
     "output_type": "stream",
     "text": [
      "False\n",
      "True\n",
      "True\n",
      "True\n",
      "True\n"
     ]
    }
   ],
   "source": [
    "# 아이디어\n",
    "s = 'a1234'\n",
    "for i in s : \n",
    "    print(i.isnumeric())"
   ]
  },
  {
   "cell_type": "code",
   "execution_count": 33,
   "metadata": {},
   "outputs": [
    {
     "name": "stdout",
     "output_type": "stream",
     "text": [
      "True\n"
     ]
    }
   ],
   "source": [
    "# 확인\n",
    "s = '1234'\n",
    "strings = [i.isnumeric() for i in s]\n",
    "# strings\n",
    "if all(strings) and (len(strings) == 4 or len(strings) == 6):\n",
    "    print(True)\n",
    "else:\n",
    "    print(False)"
   ]
  },
  {
   "cell_type": "code",
   "execution_count": 34,
   "metadata": {},
   "outputs": [],
   "source": [
    "# 정답\n",
    "def solution(s):\n",
    "    strings = [s.isnumeric() for i in s]\n",
    "    if all(strings) and (len(strings)==4 or len(strings)==6):\n",
    "        return True\n",
    "    return False"
   ]
  },
  {
   "cell_type": "code",
   "execution_count": 35,
   "metadata": {},
   "outputs": [
    {
     "data": {
      "text/plain": [
       "True"
      ]
     },
     "execution_count": 35,
     "metadata": {},
     "output_type": "execute_result"
    }
   ],
   "source": [
    "solution('1234')"
   ]
  },
  {
   "cell_type": "code",
   "execution_count": null,
   "metadata": {},
   "outputs": [],
   "source": [
    "# 다른 사람 풀이\n",
    "def alpha_string46(s):\n",
    "    return s.isdigit() and len(s) in [4,6]"
   ]
  },
  {
   "cell_type": "markdown",
   "metadata": {},
   "source": [
    "isdigit()과 isnumeric() 메서드는 모두 문자열이 숫자로만 이루어져 있는지를 확인하는 데 사용됩니다. 하지만 이 둘은 약간의 차이가 있습니다.\n",
    "\n",
    "isdigit(): 이 메서드는 문자열이 오직 0에서 9까지의 숫자로만 이루어져 있는지를 확인합니다. 즉, 유니코드에서 숫자로 정의된 문자만을 숫자로 인식합니다. 이는 일반적으로 아라비아 숫자 (0-9)에 해당하는 문자들입니다.\n",
    "\n",
    "isnumeric(): 이 메서드는 모든 숫자 형태로 이루어진 문자열을 허용합니다. 이는 숫자로 표현되는 다양한 형태의 문자들을 숫자로 인식합니다. 예를 들어, 유니코드에서 숫자로 정의된 문자뿐만 아니라 분수, 로마 숫자, 지수 등 숫자로 쓰이는 모든 문자들을 숫자로 간주합니다.\n",
    "\n",
    "간단히 말하면, isdigit()은 아라비아 숫자에 해당하는 문자만을 숫자로 간주하고, isnumeric()은 모든 종류의 숫자 문자를 숫자로 인식합니다."
   ]
  },
  {
   "cell_type": "markdown",
   "metadata": {},
   "source": []
  }
 ],
 "metadata": {
  "kernelspec": {
   "display_name": "Python 3",
   "language": "python",
   "name": "python3"
  },
  "language_info": {
   "codemirror_mode": {
    "name": "ipython",
    "version": 3
   },
   "file_extension": ".py",
   "mimetype": "text/x-python",
   "name": "python",
   "nbconvert_exporter": "python",
   "pygments_lexer": "ipython3",
   "version": "3.9.13"
  }
 },
 "nbformat": 4,
 "nbformat_minor": 2
}
