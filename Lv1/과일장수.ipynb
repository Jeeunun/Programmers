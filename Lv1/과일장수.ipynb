{
 "cells": [
  {
   "cell_type": "markdown",
   "metadata": {},
   "source": [
    "과일 장수가 사과 상자를 포장하고 있습니다. 사과는 상태에 따라 1점부터 k점까지의 점수로 분류하며, k점이 최상품의 사과이고 1점이 최하품의 사과입니다. 사과 한 상자의 가격은 다음과 같이 결정됩니다.\n",
    "\n",
    "한 상자에 사과를 m개씩 담아 포장합니다.\n",
    "상자에 담긴 사과 중 가장 낮은 점수가 p (1 ≤ p ≤ k)점인 경우, 사과 한 상자의 가격은 p * m 입니다.\n",
    "과일 장수가 가능한 많은 사과를 팔았을 때, 얻을 수 있는 최대 이익을 계산하고자 합니다.(사과는 상자 단위로만 판매하며, 남는 사과는 버립니다)\n",
    "\n",
    "예를 들어, k = 3, m = 4, 사과 7개의 점수가 [1, 2, 3, 1, 2, 3, 1]이라면, 다음과 같이 [2, 3, 2, 3]으로 구성된 사과 상자 1개를 만들어 판매하여 최대 이익을 얻을 수 있습니다.\n",
    "\n",
    "(최저 사과 점수) x (한 상자에 담긴 사과 개수) x (상자의 개수) = 2 x 4 x 1 = 8\n",
    "사과의 최대 점수 k, 한 상자에 들어가는 사과의 수 m, 사과들의 점수 score가 주어졌을 때, 과일 장수가 얻을 수 있는 최대 이익을 return하는 solution 함수를 완성해주세요."
   ]
  },
  {
   "cell_type": "code",
   "execution_count": 1,
   "metadata": {},
   "outputs": [],
   "source": [
    "# 사과의 점수 1부터 3(k, 최상품의 사과)까지의 점수로 분류\n",
    "k = 3\n",
    "\n",
    "# 한상자에 사과를 m 개씩 담아 포장\n",
    "m = 4\n",
    "\n",
    "# 상자에 담긴 사과 중 가장 낮은 점수가 p(1<=p<=k)점인 경우, 사과 한 상자의 가격은 p*m"
   ]
  },
  {
   "cell_type": "code",
   "execution_count": 4,
   "metadata": {},
   "outputs": [],
   "source": [
    "score = [1,2,3,1,2,3,1] # 최고점 k=3\n",
    "sorted_score = sorted(score, reverse=True)"
   ]
  },
  {
   "cell_type": "code",
   "execution_count": 5,
   "metadata": {},
   "outputs": [
    {
     "data": {
      "text/plain": [
       "[3, 3, 2, 2]"
      ]
     },
     "execution_count": 5,
     "metadata": {},
     "output_type": "execute_result"
    }
   ],
   "source": [
    "sorted_score[:4] #한 상자에 담을 수 있는 사과의 개수 m=4"
   ]
  },
  {
   "cell_type": "code",
   "execution_count": 6,
   "metadata": {},
   "outputs": [
    {
     "data": {
      "text/plain": [
       "8"
      ]
     },
     "execution_count": 6,
     "metadata": {},
     "output_type": "execute_result"
    }
   ],
   "source": [
    "# 한 상자에 담은 사과의 최저점이 p\n",
    "p = sorted_score[:4][-1]\n",
    "\n",
    "# 한 상자에 담은 사과의 개수 m\n",
    "p * m\n",
    "\n",
    "# 상자의 개수 = len(sorted_score)//m\n",
    "# 구하는 과정을 합쳐보자.\n",
    "sorted_score = sorted(score, reverse=True)\n",
    "sorted_score[:4][-1] * m * (len(sorted_score)//m)"
   ]
  },
  {
   "cell_type": "code",
   "execution_count": 18,
   "metadata": {},
   "outputs": [
    {
     "data": {
      "text/plain": [
       "8"
      ]
     },
     "execution_count": 18,
     "metadata": {},
     "output_type": "execute_result"
    }
   ],
   "source": [
    "k = 3\n",
    "m = 4\n",
    "\n",
    "score = [1, 2, 3, 1, 2, 3, 1]\n",
    "score = sorted(score, reverse=True)\n",
    "per_price = []\n",
    "for s in range(0,len(score),m):\n",
    "    # m 개씩 슬라이싱 했을 떄 최저점 구하기(=상자 당 사과의 가격)\n",
    "    low_price = score[s:s+m][-1]\n",
    "    # 상자 당 가격 리스트에 담기\n",
    "    per_price.append(low_price)\n",
    "\n",
    "# 가격을 모두 더하고 * m을 곱해주기\n",
    "sum(per_price)*m    "
   ]
  },
  {
   "cell_type": "code",
   "execution_count": 19,
   "metadata": {},
   "outputs": [],
   "source": [
    "# 첫번째 시도\n",
    "def solution(k,m,score):\n",
    "    score = sorted(score, reverse=True)\n",
    "    per_price = []\n",
    "    for s in range(0,len(score),m):\n",
    "        low_price = score[s:s+m][-1]\n",
    "        per_price.append(low_price)\n",
    "\n",
    "    return sum(per_price)*m   "
   ]
  },
  {
   "cell_type": "code",
   "execution_count": 20,
   "metadata": {},
   "outputs": [
    {
     "data": {
      "text/plain": [
       "12"
      ]
     },
     "execution_count": 20,
     "metadata": {},
     "output_type": "execute_result"
    }
   ],
   "source": [
    "solution(3,4,[1, 2, 3, 1, 2, 3, 1])"
   ]
  },
  {
   "cell_type": "markdown",
   "metadata": {},
   "source": [
    "> 틀림. (사과는 상자 단위로만 판매하며, 남는 사과는 버립니다) 이부분에서 틀린 듯 하다."
   ]
  },
  {
   "cell_type": "code",
   "execution_count": 23,
   "metadata": {},
   "outputs": [
    {
     "data": {
      "text/plain": [
       "33"
      ]
     },
     "execution_count": 23,
     "metadata": {},
     "output_type": "execute_result"
    }
   ],
   "source": [
    "# 두번째 시도\n",
    "# 최대 이익을 위해 내림차순으로 정렬\n",
    "k = 4\n",
    "m = 3\n",
    "score = [4, 1, 2, 2, 4, 4, 4, 4, 1, 2, 4, 2]\n",
    "score = sorted(score, reverse=True)\n",
    "\n",
    "apple_box= []\n",
    "result = []\n",
    "# 사과 상자 안에 들어가는 사과 만들기\n",
    "for s in range(0,len(score),m):\n",
    "    apples = score[s:s+m]\n",
    "    apple_box.append(apples)\n",
    "\n",
    "# 사과는 상자 단위로 판매하므로 해당 길이를 충족하지 못하면 버린다.\n",
    "for a in apple_box:\n",
    "    if len(a) == m:\n",
    "        # 한 상자 당 사과들의 가격 구하기\n",
    "        result.append(a[-1]*len(a))\n",
    "    \n",
    "\n",
    "# 최종 가격은 사과상자들의 가격 합\n",
    "sum(result)   "
   ]
  },
  {
   "cell_type": "code",
   "execution_count": 24,
   "metadata": {},
   "outputs": [],
   "source": [
    "def solution(k,m,score):\n",
    "    score = sorted(score, reverse=True)\n",
    "\n",
    "    apple_box= []\n",
    "    result = []\n",
    "\n",
    "    for s in range(0,len(score),m):\n",
    "        apples = score[s:s+m]\n",
    "        apple_box.append(apples)\n",
    "\n",
    "    for a in apple_box:\n",
    "        if len(a) == m:\n",
    "            result.append(a[-1]*len(a))\n",
    "    \n",
    "    return sum(result)"
   ]
  },
  {
   "cell_type": "code",
   "execution_count": 26,
   "metadata": {},
   "outputs": [
    {
     "data": {
      "text/plain": [
       "8"
      ]
     },
     "execution_count": 26,
     "metadata": {},
     "output_type": "execute_result"
    }
   ],
   "source": [
    "solution(3,4,[1, 2, 3, 1, 2, 3, 1])"
   ]
  },
  {
   "cell_type": "code",
   "execution_count": 27,
   "metadata": {},
   "outputs": [],
   "source": [
    "# 다른 사람 풀이\n",
    "def solution(k, m, score):\n",
    "    return sum(sorted(score)[len(score)%m::m])*m"
   ]
  },
  {
   "cell_type": "code",
   "execution_count": null,
   "metadata": {},
   "outputs": [],
   "source": []
  }
 ],
 "metadata": {
  "kernelspec": {
   "display_name": "Python 3",
   "language": "python",
   "name": "python3"
  },
  "language_info": {
   "codemirror_mode": {
    "name": "ipython",
    "version": 3
   },
   "file_extension": ".py",
   "mimetype": "text/x-python",
   "name": "python",
   "nbconvert_exporter": "python",
   "pygments_lexer": "ipython3",
   "version": "3.9.13"
  }
 },
 "nbformat": 4,
 "nbformat_minor": 2
}
