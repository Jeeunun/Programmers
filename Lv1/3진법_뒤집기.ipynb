{
 "cells": [
  {
   "cell_type": "markdown",
   "metadata": {},
   "source": [
    "자연수 n이 매개변수로 주어집니다. n을 3진법 상에서 앞뒤로 뒤집은 후, 이를 다시 10진법으로 표현한 수를 return 하도록 solution 함수를 완성해주세요."
   ]
  },
  {
   "cell_type": "code",
   "execution_count": 100,
   "metadata": {},
   "outputs": [],
   "source": [
    "# 확인\n",
    "# -1. 10진법\n",
    "n = 125\n",
    "# - 2. 3진법\n",
    "# 45/3= 몫 15, 나머지 0\n",
    "# 15/3 = 몫 5, 나머지 0\n",
    "# 5/3 = 몫 1, 나머지 2 \n",
    "# 1200\n",
    "# - 3. 3진법 뒤집기\n",
    "# 0021\n",
    "# - 4. 10진법으로 변환\n",
    "# 2*3^1 + 1*3^0 = 7\n",
    "\n",
    "n = 125\n",
    "numlist=[]\n",
    "\n",
    "while n>0:\n",
    "    numlist.append(n%3)\n",
    "    n = n//3"
   ]
  },
  {
   "cell_type": "code",
   "execution_count": 101,
   "metadata": {},
   "outputs": [
    {
     "data": {
      "text/plain": [
       "[2, 2, 1, 1, 1]"
      ]
     },
     "execution_count": 101,
     "metadata": {},
     "output_type": "execute_result"
    }
   ],
   "source": [
    "numlist"
   ]
  },
  {
   "cell_type": "code",
   "execution_count": 102,
   "metadata": {},
   "outputs": [
    {
     "data": {
      "text/plain": [
       "[(0, 1), (1, 1), (2, 1), (3, 2), (4, 2)]"
      ]
     },
     "execution_count": 102,
     "metadata": {},
     "output_type": "execute_result"
    }
   ],
   "source": [
    "list(enumerate(reversed(numlist)))"
   ]
  },
  {
   "cell_type": "code",
   "execution_count": 103,
   "metadata": {},
   "outputs": [
    {
     "data": {
      "text/plain": [
       "229"
      ]
     },
     "execution_count": 103,
     "metadata": {},
     "output_type": "execute_result"
    }
   ],
   "source": [
    "answer = []\n",
    "for i,j in list(enumerate(reversed(numlist))):\n",
    "    answer.append((3**i)*j)\n",
    "\n",
    "sum(answer)"
   ]
  },
  {
   "cell_type": "code",
   "execution_count": 104,
   "metadata": {},
   "outputs": [],
   "source": [
    "# 정답\n",
    "def solution(n):\n",
    "    # 3진법으로 바꾼 숫자 담기\n",
    "    numlist=[]\n",
    "    while n>0:\n",
    "        numlist.append(n%3)\n",
    "        n = n//3\n",
    "    \n",
    "    # 10진법으로 바꾼 숫자 담기\n",
    "    answer = []\n",
    "    # enumerate함수를 활용해 인덱스를 지수로 활용\n",
    "    for i,j in list(enumerate(reversed(numlist))): \n",
    "        answer.append((3**i)*j)\n",
    "\n",
    "    return sum(answer)"
   ]
  },
  {
   "cell_type": "code",
   "execution_count": 105,
   "metadata": {},
   "outputs": [
    {
     "data": {
      "text/plain": [
       "229"
      ]
     },
     "execution_count": 105,
     "metadata": {},
     "output_type": "execute_result"
    }
   ],
   "source": [
    "solution(125)"
   ]
  },
  {
   "cell_type": "code",
   "execution_count": null,
   "metadata": {},
   "outputs": [],
   "source": [
    "# 다른사람 풀이\n",
    "def solution(n):\n",
    "    tmp = ''\n",
    "    while n:\n",
    "        tmp += str(n % 3)\n",
    "        n = n // 3\n",
    "\n",
    "    answer = int(tmp, 3)\n",
    "    return answer"
   ]
  }
 ],
 "metadata": {
  "kernelspec": {
   "display_name": "Python 3",
   "language": "python",
   "name": "python3"
  },
  "language_info": {
   "codemirror_mode": {
    "name": "ipython",
    "version": 3
   },
   "file_extension": ".py",
   "mimetype": "text/x-python",
   "name": "python",
   "nbconvert_exporter": "python",
   "pygments_lexer": "ipython3",
   "version": "3.9.13"
  }
 },
 "nbformat": 4,
 "nbformat_minor": 2
}
