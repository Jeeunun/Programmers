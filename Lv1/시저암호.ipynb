{
 "cells": [
  {
   "cell_type": "markdown",
   "metadata": {},
   "source": [
    "어떤 문장의 각 알파벳을 일정한 거리만큼 밀어서 다른 알파벳으로 바꾸는 암호화 방식을 시저 암호라고 합니다. 예를 들어 \"AB\"는 1만큼 밀면 \"BC\"가 되고, 3만큼 밀면 \"DE\"가 됩니다. \"z\"는 1만큼 밀면 \"a\"가 됩니다. 문자열 s와 거리 n을 입력받아 s를 n만큼 민 암호문을 만드는 함수, solution을 완성해 보세요."
   ]
  },
  {
   "cell_type": "code",
   "execution_count": 12,
   "metadata": {},
   "outputs": [
    {
     "name": "stdout",
     "output_type": "stream",
     "text": [
      "98\n",
      "<class 'int'>\n",
      "b\n",
      "99\n",
      "<class 'int'>\n",
      "c\n"
     ]
    }
   ],
   "source": [
    "# 아이디어\n",
    "s = 'AB'\n",
    "for str in s.lower():\n",
    "    print(ord(str)+1)\n",
    "    print(type(ord(str)+1))\n",
    "    print(chr(ord(str)+1))"
   ]
  },
  {
   "cell_type": "code",
   "execution_count": 14,
   "metadata": {},
   "outputs": [
    {
     "name": "stdout",
     "output_type": "stream",
     "text": [
      "123\n"
     ]
    }
   ],
   "source": [
    "s = 'z'\n",
    "for str in s.lower():\n",
    "    print(ord(str)+1)\n",
    "    # n만큼 밀었을때 ord(z)=122보다 클때는 다시 ord(a)부터..."
   ]
  },
  {
   "cell_type": "code",
   "execution_count": 14,
   "metadata": {},
   "outputs": [
    {
     "data": {
      "text/plain": [
       "['e', '$', 'f', '$', 'd']"
      ]
     },
     "execution_count": 14,
     "metadata": {},
     "output_type": "execute_result"
    }
   ],
   "source": [
    "# 확인해보기\n",
    "s = 'a B z'\n",
    "n = 4\n",
    "answer =[]\n",
    "for j in [ord(i) for i in [str for str in s.lower()]]: \n",
    "    # print(j+1)\n",
    "    if j+n > ord('z'):\n",
    "        answer.append((chr(ord('a')+ (n-1))))\n",
    "    else:\n",
    "        answer.append((chr(j+n)))\n",
    "\n",
    "answer\n"
   ]
  },
  {
   "cell_type": "code",
   "execution_count": 30,
   "metadata": {},
   "outputs": [
    {
     "data": {
      "text/plain": [
       "'e F d'"
      ]
     },
     "execution_count": 30,
     "metadata": {},
     "output_type": "execute_result"
    }
   ],
   "source": [
    "for i in range(len(s)):\n",
    "    if s[i].isupper():\n",
    "        answer[i] = answer[i].upper()\n",
    "    elif s[i] == ' ':\n",
    "        answer[i] = ' '\n",
    "\n",
    "''.join(answer)"
   ]
  },
  {
   "cell_type": "code",
   "execution_count": 32,
   "metadata": {},
   "outputs": [],
   "source": [
    "# 첫번째 시도\n",
    "def solution(s, n):\n",
    "    answer =[]\n",
    "    for j in [ord(i) for i in [str for str in s.lower()]]: \n",
    "        # print(j+1)\n",
    "        if j+n > ord('z'):\n",
    "            answer.append((chr(ord('a')+ (n-1))))\n",
    "        else:\n",
    "            answer.append((chr(j+n)))\n",
    "\n",
    "    for i in range(len(s)):\n",
    "        if s[i].isupper():\n",
    "            answer[i] = answer[i].upper()\n",
    "        elif s[i] == ' ':\n",
    "            answer[i] = ' '\n",
    "\n",
    "    return ''.join(answer)"
   ]
  },
  {
   "cell_type": "code",
   "execution_count": 35,
   "metadata": {},
   "outputs": [
    {
     "data": {
      "text/plain": [
       "'BC'"
      ]
     },
     "execution_count": 35,
     "metadata": {},
     "output_type": "execute_result"
    }
   ],
   "source": [
    "solution(\"AB\",1)"
   ]
  },
  {
   "cell_type": "markdown",
   "metadata": {},
   "source": [
    "문제...\n",
    "\n",
    "1. 암호화하는 과정에서 원래 문자열과 대소문자를 구분하지 않고 모두 소문자로 변환하고 있습니다. 하지만 대소문자를 유지해야 합니다.\n",
    "\n",
    "2. 문자를 밀 때, 'z' 다음에는 다시 'a'로 돌아가야 합니다. 하지만 현재 코드에서는 'z' 다음에 'a'가 아닌 'a' 바로 전의 문자로 돌아가는 문제가 있습니다.\n",
    "\n",
    "3. 문자열을 한 번에 처리하는 것보다 한 문자씩 처리하면서 해결할 수 있습니다."
   ]
  },
  {
   "cell_type": "code",
   "execution_count": 37,
   "metadata": {},
   "outputs": [
    {
     "name": "stdout",
     "output_type": "stream",
     "text": [
      "65\n",
      "90\n"
     ]
    }
   ],
   "source": [
    "print(ord('A'))\n",
    "print(ord('Z'))"
   ]
  },
  {
   "cell_type": "code",
   "execution_count": 38,
   "metadata": {},
   "outputs": [
    {
     "name": "stdout",
     "output_type": "stream",
     "text": [
      "97\n",
      "122\n"
     ]
    }
   ],
   "source": [
    "print(ord('a'))\n",
    "print(ord('z'))"
   ]
  },
  {
   "cell_type": "code",
   "execution_count": null,
   "metadata": {},
   "outputs": [],
   "source": [
    "s = 'a B z'\n",
    "n = 4"
   ]
  },
  {
   "cell_type": "code",
   "execution_count": 41,
   "metadata": {},
   "outputs": [
    {
     "name": "stdout",
     "output_type": "stream",
     "text": [
      "66\n"
     ]
    }
   ],
   "source": [
    "print(ord('B'))"
   ]
  },
  {
   "cell_type": "code",
   "execution_count": 39,
   "metadata": {},
   "outputs": [],
   "source": [
    "# 정답\n",
    "def solution(s, n):\n",
    "    answer = \"\"\n",
    "    for str in s:\n",
    "        if str.isupper():  # 대문자인 경우\n",
    "            alpha = chr((ord(str) - ord('A') + n) % 26 + ord('A'))\n",
    "            answer += alpha\n",
    "        elif str.islower():  # 소문자인 경우\n",
    "            alpha = chr((ord(str) - ord('a') + n) % 26 + ord('a'))\n",
    "            answer += alpha\n",
    "            answer += ' '\n",
    "    return answer"
   ]
  },
  {
   "cell_type": "code",
   "execution_count": 40,
   "metadata": {},
   "outputs": [
    {
     "data": {
      "text/plain": [
       "'e F d'"
      ]
     },
     "execution_count": 40,
     "metadata": {},
     "output_type": "execute_result"
    }
   ],
   "source": [
    "solution('a B z', 4)"
   ]
  },
  {
   "cell_type": "code",
   "execution_count": 42,
   "metadata": {},
   "outputs": [],
   "source": [
    "# 다른 사람 풀이\n",
    "def caesar(s, n):\n",
    "    s = list(s)\n",
    "    for i in range(len(s)):\n",
    "        if s[i].isupper():\n",
    "            s[i]=chr((ord(s[i])-ord('A')+ n)%26+ord('A'))\n",
    "        elif s[i].islower():\n",
    "            s[i]=chr((ord(s[i])-ord('a')+ n)%26+ord('a'))\n",
    "\n",
    "    return \"\".join(s)"
   ]
  },
  {
   "cell_type": "code",
   "execution_count": null,
   "metadata": {},
   "outputs": [],
   "source": []
  }
 ],
 "metadata": {
  "kernelspec": {
   "display_name": "Python 3",
   "language": "python",
   "name": "python3"
  },
  "language_info": {
   "codemirror_mode": {
    "name": "ipython",
    "version": 3
   },
   "file_extension": ".py",
   "mimetype": "text/x-python",
   "name": "python",
   "nbconvert_exporter": "python",
   "pygments_lexer": "ipython3",
   "version": "3.9.13"
  }
 },
 "nbformat": 4,
 "nbformat_minor": 2
}
