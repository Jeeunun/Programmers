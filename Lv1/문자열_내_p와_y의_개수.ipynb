{
 "cells": [
  {
   "cell_type": "markdown",
   "metadata": {},
   "source": [
    "대문자와 소문자가 섞여있는 문자열 s가 주어집니다. s에 'p'의 개수와 'y'의 개수를 비교해 같으면 True, 다르면 False를 return 하는 solution를 완성하세요. 'p', 'y' 모두 하나도 없는 경우는 항상 True를 리턴합니다. 단, 개수를 비교할 때 대문자와 소문자는 구별하지 않습니다.\n",
    "\n",
    "예를 들어 s가 \"pPoooyY\"면 true를 return하고 \"Pyy\"라면 false를 return합니다.\n",
    "\n",
    "|s|answer|\n",
    "|---|---|\n",
    "|\"pPoooyY\"|true|\n",
    "|\"Pyy\"|false|"
   ]
  },
  {
   "cell_type": "code",
   "execution_count": 17,
   "metadata": {},
   "outputs": [],
   "source": [
    "# 아이디어 : dictionary 사용 (key, value 활용)\n",
    "dict = {}\n",
    "py= ('y','Y','p','P')\n",
    "dict.update(dict.fromkeys(py, 0))"
   ]
  },
  {
   "cell_type": "code",
   "execution_count": 18,
   "metadata": {},
   "outputs": [
    {
     "data": {
      "text/plain": [
       "{'y': 0, 'Y': 0, 'p': 0, 'P': 0}"
      ]
     },
     "execution_count": 18,
     "metadata": {},
     "output_type": "execute_result"
    }
   ],
   "source": [
    "dict"
   ]
  },
  {
   "cell_type": "code",
   "execution_count": 19,
   "metadata": {},
   "outputs": [
    {
     "name": "stdout",
     "output_type": "stream",
     "text": [
      "False\n"
     ]
    }
   ],
   "source": [
    "# 확인\n",
    "s = \"Pyy\"\n",
    "for str in s:\n",
    "    if str in dict.keys():\n",
    "        # print(str)\n",
    "        dict[str]+=1\n",
    "# dict\n",
    "if dict['y'] + dict['Y'] == dict['p'] + dict['P']:\n",
    "    print (True)\n",
    "else:\n",
    "    print (False) "
   ]
  },
  {
   "cell_type": "code",
   "execution_count": 20,
   "metadata": {},
   "outputs": [],
   "source": [
    "# 첫번째 시도\n",
    "def solution(s):\n",
    "    dict = {}\n",
    "    py= ('y','Y','p','P')\n",
    "    dict.update(dict.fromkeys(py, 0))\n",
    "    \n",
    "    for str in s:\n",
    "        if str in dict.keys():\n",
    "            dict[str]+=1\n",
    "\n",
    "    if dict['y'] + dict['Y'] == dict['p'] + dict['P']:\n",
    "        return (True)\n",
    "    else:\n",
    "        return (False) "
   ]
  },
  {
   "cell_type": "code",
   "execution_count": 22,
   "metadata": {},
   "outputs": [
    {
     "data": {
      "text/plain": [
       "False"
      ]
     },
     "execution_count": 22,
     "metadata": {},
     "output_type": "execute_result"
    }
   ],
   "source": [
    "solution(\"Pyy\")"
   ]
  },
  {
   "cell_type": "markdown",
   "metadata": {},
   "source": [
    "> 첫번째 시도 오류;; '{'Poo'} 같은 문자는 생각 못햇다."
   ]
  },
  {
   "cell_type": "code",
   "execution_count": 2,
   "metadata": {},
   "outputs": [],
   "source": [
    "# 두번째 시도\n",
    "def solution(s):\n",
    "    cnt=0\n",
    "    pylist= ['y','Y','p','P']\n",
    "\n",
    "    for a in ''.join(s):\n",
    "        if a in pylist: \n",
    "            cnt+=1\n",
    "\n",
    "    if (cnt%2==0) or (cnt==0):           \n",
    "        return True\n",
    "    else:\n",
    "        return False"
   ]
  },
  {
   "cell_type": "code",
   "execution_count": null,
   "metadata": {},
   "outputs": [],
   "source": [
    "# 다른 사람 풀이\n",
    "def numPY(s):\n",
    "    # 함수를 완성하세요\n",
    "    return s.lower().count('p') == s.lower().count('y')"
   ]
  }
 ],
 "metadata": {
  "kernelspec": {
   "display_name": "Python 3",
   "language": "python",
   "name": "python3"
  },
  "language_info": {
   "codemirror_mode": {
    "name": "ipython",
    "version": 3
   },
   "file_extension": ".py",
   "mimetype": "text/x-python",
   "name": "python",
   "nbconvert_exporter": "python",
   "pygments_lexer": "ipython3",
   "version": "3.9.13"
  }
 },
 "nbformat": 4,
 "nbformat_minor": 2
}
