{
 "cells": [
  {
   "cell_type": "markdown",
   "metadata": {},
   "source": [
    "어떤 정수들이 있습니다. 이 정수들의 절댓값을 차례대로 담은 정수 배열 absolutes와 이 정수들의 부호를 차례대로 담은 불리언 배열 signs가 매개변수로 주어집니다. 실제 정수들의 합을 구하여 return 하도록 solution 함수를 완성해주세요."
   ]
  },
  {
   "cell_type": "code",
   "execution_count": 20,
   "metadata": {},
   "outputs": [
    {
     "data": {
      "text/plain": [
       "0"
      ]
     },
     "execution_count": 20,
     "metadata": {},
     "output_type": "execute_result"
    }
   ],
   "source": [
    "# 확인\n",
    "absolutes = [1,2,3]\n",
    "signs = ['false','false','true']\n",
    "absolutes = [-a if b=='false' else a for a, b in (zip(absolutes, signs))]\n",
    "sum(absolutes)"
   ]
  },
  {
   "cell_type": "markdown",
   "metadata": {},
   "source": [
    "> NameError: name 'false' is not defined\n",
    "> 해결 : \"false\"와 \"true\"는 파이썬의 키워드가 아니므로 따옴표 없이 사용되어야 합니다. 파이썬에서는 불리언 값을 표현할 때 False와 True를 사용해야 합니다.(변수나 식별자로 인식하는 오류를 피할 수 있다.)"
   ]
  },
  {
   "cell_type": "code",
   "execution_count": 25,
   "metadata": {},
   "outputs": [
    {
     "data": {
      "text/plain": [
       "0"
      ]
     },
     "execution_count": 25,
     "metadata": {},
     "output_type": "execute_result"
    }
   ],
   "source": [
    "absolutes = [1,2,3]\n",
    "signs = [False,False,True]\n",
    "absolutes = [-a if b==False else a for a, b in (zip(absolutes, signs))]\n",
    "sum(absolutes)"
   ]
  },
  {
   "cell_type": "code",
   "execution_count": 22,
   "metadata": {},
   "outputs": [],
   "source": [
    "# 정답\n",
    "def solution(absolutes, signs):\n",
    "    absolutes = [-a if b == False else a for a,b in zip(absolutes, signs)]\n",
    "    return sum(absolutes)"
   ]
  },
  {
   "cell_type": "code",
   "execution_count": null,
   "metadata": {},
   "outputs": [],
   "source": []
  }
 ],
 "metadata": {
  "kernelspec": {
   "display_name": "Python 3",
   "language": "python",
   "name": "python3"
  },
  "language_info": {
   "codemirror_mode": {
    "name": "ipython",
    "version": 3
   },
   "file_extension": ".py",
   "mimetype": "text/x-python",
   "name": "python",
   "nbconvert_exporter": "python",
   "pygments_lexer": "ipython3",
   "version": "3.9.13"
  }
 },
 "nbformat": 4,
 "nbformat_minor": 2
}
