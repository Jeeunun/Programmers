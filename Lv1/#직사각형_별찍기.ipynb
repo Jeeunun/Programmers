{
 "cells": [
  {
   "cell_type": "markdown",
   "metadata": {},
   "source": [
    "이 문제에는 표준 입력으로 두 개의 정수 n과 m이 주어집니다.\n",
    "별(*) 문자를 이용해 가로의 길이가 n, 세로의 길이가 m인 직사각형 형태를 출력해보세요."
   ]
  },
  {
   "cell_type": "code",
   "execution_count": 1,
   "metadata": {},
   "outputs": [],
   "source": [
    "m = 3\n",
    "n = 5"
   ]
  },
  {
   "cell_type": "code",
   "execution_count": 2,
   "metadata": {},
   "outputs": [],
   "source": [
    "def solution(m,n):\n",
    "    for _ in range(m):\n",
    "        print('*' * 5)"
   ]
  },
  {
   "cell_type": "code",
   "execution_count": 3,
   "metadata": {},
   "outputs": [
    {
     "name": "stdout",
     "output_type": "stream",
     "text": [
      "*****\n",
      "*****\n",
      "*****\n"
     ]
    }
   ],
   "source": [
    "solution(3,5)"
   ]
  },
  {
   "cell_type": "code",
   "execution_count": 13,
   "metadata": {},
   "outputs": [],
   "source": [
    "def solution(m,n):\n",
    "    stars = '*' * m * n\n",
    "    for str in [stars[i:i+n] for i in range(0, len(stars),n)]:\n",
    "        print(str)"
   ]
  },
  {
   "cell_type": "code",
   "execution_count": 14,
   "metadata": {},
   "outputs": [
    {
     "name": "stdout",
     "output_type": "stream",
     "text": [
      "*****\n",
      "*****\n",
      "*****\n"
     ]
    }
   ],
   "source": [
    "solution(3,5)"
   ]
  },
  {
   "cell_type": "markdown",
   "metadata": {},
   "source": [
    "> 리스트를 언패킹한다는 것은 리스트의 각 요소를 개별적으로 분리하여 출력하는 것을 의미합니다. 이를 위해서는 리스트의 각 요소를 분리하여 print() 함수에 전달해야 합니다.\n",
    "\n",
    "파이썬에서는 * 연산자를 사용하여 리스트를 언패킹할 수 있습니다. 이를 사용하면 리스트의 각 요소가 개별적인 인자로 전달됩니다.\n",
    "\n",
    "> my_list =[1,2,3,4,5] <br>\n",
    "> print(*my_list) # 1 2 3 4 5"
   ]
  },
  {
   "cell_type": "code",
   "execution_count": 20,
   "metadata": {},
   "outputs": [
    {
     "name": "stdout",
     "output_type": "stream",
     "text": [
      "*****\n",
      "*****\n",
      "*****\n"
     ]
    }
   ],
   "source": [
    "m = 3\n",
    "n = 5\n",
    "stars = \"*\"* m * n\n",
    "print(stars[0:n])\n",
    "print(stars[n:2*n])\n",
    "print(stars[2*n:])"
   ]
  },
  {
   "cell_type": "code",
   "execution_count": 26,
   "metadata": {},
   "outputs": [
    {
     "name": "stdout",
     "output_type": "stream",
     "text": [
      "*****\n",
      "*****\n",
      "*****\n"
     ]
    }
   ],
   "source": [
    "print('\\n'.join([stars[i:i+n] for i in range(0,len(stars),n)]))"
   ]
  },
  {
   "cell_type": "code",
   "execution_count": 1,
   "metadata": {},
   "outputs": [],
   "source": [
    "def solution(m,n):\n",
    "    stars = '*' * m * n\n",
    "    return ('\\n'.join([stars[i:i+n] for i in range(0,len(stars),n)]))"
   ]
  },
  {
   "cell_type": "markdown",
   "metadata": {},
   "source": [
    "\n",
    "문제는 함수 내부에서 별(*) 문자를 형성하는 방법과 출력 형태가 잘못되었습니다. 현재 코드에서는 가로의 길이가 n이지만, 실제로는 m만큼의 길이로 별을 형성하고 있습니다. 따라서 가로의 길이와 세로의 길이를 바르게 고려하여 별을 형성해야 합니다."
   ]
  },
  {
   "cell_type": "code",
   "execution_count": null,
   "metadata": {},
   "outputs": [],
   "source": [
    "# 확인\n",
    "def solution(m, n):\n",
    "    rectangle = ''\n",
    "    for _ in range(m):\n",
    "        rectangle += '*' * n + '\\n'\n",
    "    return rectangle"
   ]
  },
  {
   "cell_type": "markdown",
   "metadata": {},
   "source": [
    "> 기댓값과 다르다하며..채점불가.. <br>\n",
    "> \" \" 가 들어가서 그런 거 같은데 어떻게 하지?"
   ]
  },
  {
   "cell_type": "code",
   "execution_count": 3,
   "metadata": {},
   "outputs": [
    {
     "name": "stdout",
     "output_type": "stream",
     "text": [
      "*****\n",
      "*****\n",
      "*****\n"
     ]
    }
   ],
   "source": [
    "m = 3\n",
    "n = 5\n",
    "for i in range(m):\n",
    "    for j in range(n):\n",
    "        print('*', end='')\n",
    "    print() # 빈 프린트를 넣어주어 자동 줄바꿈되도록 함. "
   ]
  },
  {
   "cell_type": "code",
   "execution_count": 4,
   "metadata": {},
   "outputs": [],
   "source": [
    "def solution(m,n):\n",
    "    for i in range(m):\n",
    "        for j in range(n):\n",
    "            print('*', end='')\n",
    "        print()"
   ]
  },
  {
   "cell_type": "code",
   "execution_count": 5,
   "metadata": {},
   "outputs": [
    {
     "name": "stdout",
     "output_type": "stream",
     "text": [
      "****\n",
      "****\n",
      "****\n",
      "****\n",
      "****\n",
      "****\n"
     ]
    }
   ],
   "source": [
    "solution(6,4)"
   ]
  },
  {
   "cell_type": "code",
   "execution_count": null,
   "metadata": {},
   "outputs": [],
   "source": [
    "# 정답\n",
    "a, b = map(int, input().strip().split(' '))\n",
    "for i in range(1,b+1):\n",
    "    print('*' * a)"
   ]
  }
 ],
 "metadata": {
  "kernelspec": {
   "display_name": "Python 3",
   "language": "python",
   "name": "python3"
  },
  "language_info": {
   "codemirror_mode": {
    "name": "ipython",
    "version": 3
   },
   "file_extension": ".py",
   "mimetype": "text/x-python",
   "name": "python",
   "nbconvert_exporter": "python",
   "pygments_lexer": "ipython3",
   "version": "3.9.13"
  }
 },
 "nbformat": 4,
 "nbformat_minor": 2
}
