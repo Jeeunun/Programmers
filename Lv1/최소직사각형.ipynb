{
 "cells": [
  {
   "cell_type": "markdown",
   "metadata": {},
   "source": [
    "명함 지갑을 만드는 회사에서 지갑의 크기를 정하려고 합니다. 다양한 모양과 크기의 명함들을 모두 수납할 수 있으면서, 작아서 들고 다니기 편한 지갑을 만들어야 합니다. 이러한 요건을 만족하는 지갑을 만들기 위해 디자인팀은 모든 명함의 가로 길이와 세로 길이를 조사했습니다.\n",
    "\n",
    "아래 표는 4가지 명함의 가로 길이와 세로 길이를 나타냅니다.\n",
    "\n",
    "|명함 번호|가로 길이|세로 길이|\n",
    "|---|--|---|\n",
    "|1|60|50|\n",
    "|2|30|70|\n",
    "|3|60|30|\n",
    "|4|80|40|\n",
    "\n",
    "\n",
    "가장 긴 가로 길이와 세로 길이가 각각 80, 70이기 때문에 80(가로) x 70(세로) 크기의 지갑을 만들면 모든 명함들을 수납할 수 있습니다. 하지만 2번 명함을 가로로 눕혀 수납한다면 80(가로) x 50(세로) 크기의 지갑으로 모든 명함들을 수납할 수 있습니다. 이때의 지갑 크기는 4000(=80 x 50)입니다.\n",
    "\n",
    "모든 명함의 가로 길이와 세로 길이를 나타내는 2차원 배열 sizes가 매개변수로 주어집니다. 모든 명함을 수납할 수 있는 가장 작은 지갑을 만들 때, 지갑의 크기를 return 하도록 solution 함수를 완성해주세요.\n",
    "\n",
    "\n",
    "예시\n",
    "\n",
    "|sizes|result|\n",
    "|--|--|\n",
    "|[[60, 50], [30, 70], [60, 30], [80, 40]]|4000|\n",
    "|[[10, 7], [12, 3], [8, 15], [14, 7], [5, 15]]|120|\n",
    "|[[14, 4], [19, 6], [6, 16], [18, 7], [7, 11]]|133|"
   ]
  },
  {
   "cell_type": "code",
   "execution_count": 34,
   "metadata": {},
   "outputs": [
    {
     "data": {
      "text/plain": [
       "{'row': [60, 30, 60, 80], 'col': [50, 70, 30, 40]}"
      ]
     },
     "execution_count": 34,
     "metadata": {},
     "output_type": "execute_result"
    }
   ],
   "source": [
    "sizes = [[60, 50], [30, 70], [60, 30], [80, 40]]\n",
    "\n",
    "# 가로에서 가장 큰 수, 세로에서 가장 큰 수 끼리 곱한 값은 모든 명함을 다 넣을 수 있는 크기.\n",
    "# 만약 가로에서 가장 큰수와 세로길이에서 두번째로 큰 수 끼리 곱한 값도 해당 명함을 모두 담을 수 있다면 출력..\n",
    "# 즉, 모든 명함을 담을 수 있는 최솟값을 구하면 된다. \n",
    "\n",
    "# '가로(=row)'를 key로 가로의 길이를 value, '세로(=col)'를 key로 세로의 길이를 value로 하는 dictionary 생성!\n",
    "card_dict ={'row':[], 'col':[]}\n",
    "\n",
    "\n",
    "for s in sizes:\n",
    "    card_dict['row'].append(s[0])\n",
    "    card_dict['col'].append(s[1])\n",
    "\n",
    "card_dict"
   ]
  },
  {
   "cell_type": "code",
   "execution_count": 35,
   "metadata": {},
   "outputs": [],
   "source": [
    "# 각 종 사이즈를 담을 리스트 생성\n",
    "result = []"
   ]
  },
  {
   "cell_type": "markdown",
   "metadata": {},
   "source": [
    "### 가로길이 최댓값은 그대로 둔 채 * 세로 길이만 변화한 경우"
   ]
  },
  {
   "cell_type": "code",
   "execution_count": 36,
   "metadata": {},
   "outputs": [
    {
     "data": {
      "text/plain": [
       "[30, 40, 50, 70]"
      ]
     },
     "execution_count": 36,
     "metadata": {},
     "output_type": "execute_result"
    }
   ],
   "source": [
    "# 세로 정렬\n",
    "card_dict['col'].sort()\n",
    "card_dict['col']"
   ]
  },
  {
   "cell_type": "code",
   "execution_count": 37,
   "metadata": {},
   "outputs": [],
   "source": [
    "# 가로에서 제일 큰 값 x 세로에서 제일 큰 값\n",
    "size = max(card_dict['row'])*(card_dict['col'][-1])\n",
    "result.append(size)\n",
    "\n",
    "# 세로길이에서 하나씩 지워보면서 크기 확인해보기\n",
    "card_dict['col'].pop()\n",
    "size = max(card_dict['row'])*(card_dict['col'][-1])\n",
    "result.append(size)\n",
    "\n",
    "# 이걸 card_dict['col']의 value 길이 만큼 반복"
   ]
  },
  {
   "cell_type": "markdown",
   "metadata": {},
   "source": [
    "### 가로길이 최댓값은 그대로 둔 채 가로길이와 세로길이를 바꾼 경우"
   ]
  },
  {
   "cell_type": "code",
   "execution_count": 38,
   "metadata": {},
   "outputs": [],
   "source": [
    "# 최댓값과 나머지 값을 곱해주기\n",
    "card_dict['col'].sort()\n",
    "for l in card_dict['col'][:-1]:\n",
    "    size = card_dict['col'][-1] * l\n",
    "    result.append(size)"
   ]
  },
  {
   "cell_type": "markdown",
   "metadata": {},
   "source": [
    "### 코드 합치기"
   ]
  },
  {
   "cell_type": "code",
   "execution_count": 39,
   "metadata": {},
   "outputs": [],
   "source": [
    "card_dict ={'row':[], 'col':[]}\n",
    "\n",
    "\n",
    "for s in sizes:\n",
    "    card_dict['row'].append(s[0])\n",
    "    card_dict['col'].append(s[1])\n",
    "\n",
    "\n",
    "# 가로에서 제일 큰 값 x 세로에서 제일 큰 값\n",
    "# 세로길이에서 하나씩 지워보면서 크기 확인해보기\n",
    "# 이걸 card_dict['col']의 value 길이 만큼 반복\n",
    "for _ in range(len(card_dict['col'])):\n",
    "    size = max(card_dict['row'])*(card_dict['col'][-1])\n",
    "    result.append(size)\n",
    "    card_dict['col'].pop()\n",
    "\n",
    "# 최댓값과 나머지 값을 곱해주기\n",
    "card_dict['col'].sort()\n",
    "for l in card_dict['col'][:-1]:\n",
    "    size = card_dict['col'][-1] * l\n",
    "    result.append(size)"
   ]
  },
  {
   "cell_type": "markdown",
   "metadata": {},
   "source": [
    "### 각각의 명함 크기와 size에 담긴 크기 비교해보기"
   ]
  },
  {
   "cell_type": "code",
   "execution_count": 40,
   "metadata": {},
   "outputs": [
    {
     "data": {
      "text/plain": [
       "[3000, 2100, 1800, 3200]"
      ]
     },
     "execution_count": 40,
     "metadata": {},
     "output_type": "execute_result"
    }
   ],
   "source": [
    "# 1~4번 각각의 명함 크기 구하기\n",
    "multiplies = []\n",
    "for s in sizes:\n",
    "    # print(s)\n",
    "    for i in range(len(s)-1):\n",
    "        multiply = s[i]*s[i+1]\n",
    "        # print(multiply)\n",
    "        multiplies.append(multiply)\n",
    "\n",
    "multiplies\n",
    "       "
   ]
  },
  {
   "cell_type": "code",
   "execution_count": 41,
   "metadata": {},
   "outputs": [
    {
     "name": "stdout",
     "output_type": "stream",
     "text": [
      "4000\n"
     ]
    }
   ],
   "source": [
    "for r in set(result):\n",
    "    if r <= max(multiplies):\n",
    "        result.remove(r)\n",
    "\n",
    "print(min(result))"
   ]
  },
  {
   "cell_type": "markdown",
   "metadata": {},
   "source": [
    "### 함수로 만들어보기"
   ]
  },
  {
   "cell_type": "code",
   "execution_count": 57,
   "metadata": {},
   "outputs": [],
   "source": [
    "def solution(sizes): \n",
    "    card_dict ={'row':[], 'col':[]}\n",
    "\n",
    "    for s in sizes:\n",
    "        card_dict['row'].append(s[0])\n",
    "        card_dict['col'].append(s[1])\n",
    "\n",
    "    for _ in range(len(card_dict['col'])):\n",
    "        size = max(card_dict['row'])*(card_dict['col'][-1])\n",
    "        result.append(size)\n",
    "        card_dict['col'].pop()\n",
    "\n",
    "    card_dict['col'].sort()\n",
    "    for l in card_dict['col'][:-1]:\n",
    "        size = card_dict['col'][-1] * l\n",
    "        result.append(size)\n",
    "\n",
    "    multiplies = []\n",
    "    for s in sizes: \n",
    "        for i in range(len(s)-1):\n",
    "            multiply = s[i]*s[i+1]\n",
    "            multiplies.append(multiply)\n",
    "\n",
    "    for r in set(result):\n",
    "        if r <= max(multiplies):\n",
    "            result.remove(r)\n",
    "\n",
    "    return (min(result))"
   ]
  },
  {
   "cell_type": "code",
   "execution_count": 58,
   "metadata": {},
   "outputs": [
    {
     "data": {
      "text/plain": [
       "98"
      ]
     },
     "execution_count": 58,
     "metadata": {},
     "output_type": "execute_result"
    }
   ],
   "source": [
    "solution([[10, 7], [12, 3], [8, 15], [14, 7], [5, 15]])"
   ]
  },
  {
   "cell_type": "markdown",
   "metadata": {},
   "source": [
    "> 틀렷다..."
   ]
  },
  {
   "cell_type": "code",
   "execution_count": 52,
   "metadata": {},
   "outputs": [],
   "source": [
    "sizes = [[10, 7], [12, 3], [8, 15], [14, 7], [5, 15]]"
   ]
  },
  {
   "cell_type": "code",
   "execution_count": 53,
   "metadata": {},
   "outputs": [],
   "source": [
    "multiplies = []\n",
    "for s in sizes: \n",
    "    for i in range(len(s)-1):\n",
    "        multiply = s[i]*s[i+1]\n",
    "        multiplies.append(multiply)"
   ]
  },
  {
   "cell_type": "code",
   "execution_count": 54,
   "metadata": {},
   "outputs": [
    {
     "data": {
      "text/plain": [
       "[70, 36, 120, 98, 75]"
      ]
     },
     "execution_count": 54,
     "metadata": {},
     "output_type": "execute_result"
    }
   ],
   "source": [
    "multiplies"
   ]
  },
  {
   "cell_type": "code",
   "execution_count": null,
   "metadata": {},
   "outputs": [],
   "source": []
  }
 ],
 "metadata": {
  "kernelspec": {
   "display_name": "Python 3",
   "language": "python",
   "name": "python3"
  },
  "language_info": {
   "codemirror_mode": {
    "name": "ipython",
    "version": 3
   },
   "file_extension": ".py",
   "mimetype": "text/x-python",
   "name": "python",
   "nbconvert_exporter": "python",
   "pygments_lexer": "ipython3",
   "version": "3.9.13"
  }
 },
 "nbformat": 4,
 "nbformat_minor": 2
}
